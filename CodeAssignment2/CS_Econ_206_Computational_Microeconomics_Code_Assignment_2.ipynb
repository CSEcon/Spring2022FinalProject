{
  "nbformat": 4,
  "nbformat_minor": 0,
  "metadata": {
    "colab": {
      "name": "CS/Econ 206 Computational Microeconomics: Code Assignment 2.ipynb",
      "provenance": []
    },
    "kernelspec": {
      "name": "python3",
      "display_name": "Python 3"
    },
    "language_info": {
      "name": "python"
    }
  },
  "cells": [
    {
      "cell_type": "markdown",
      "source": [
        "**Submitted by**: \n",
        "\n",
        "Your [First Name], [Last Name], [LinkedIn](provide URL)::\n",
        "Majoring in [Your Major]\n",
        "Class of [Graduation Year]\n",
        "Duke Kunshan University\n",
        "\n",
        "\n",
        "---\n",
        "\n"
      ],
      "metadata": {
        "id": "T_st2ocVHzSR"
      }
    },
    {
      "cell_type": "markdown",
      "source": [
        "*Disclaimer: Submissions to Problem Set 1 for COMPSCI/ECON 206 Computational Microeconomics, 2022 Spring Term (Seven Week - Second) instructed by [Prof. Luyao Zhang](http://scholars.duke.edu/person/luyao.zhang) at Duke Kunshan University.*"
      ],
      "metadata": {
        "id": "kUAwQRcLHrTC"
      }
    },
    {
      "cell_type": "markdown",
      "source": [
        "**Resources:**\n",
        "\n",
        "*   Colab Instructions: https://colab.research.google.com/\n",
        "*   Markdown Guide: https://www.markdownguide.org\n",
        "*   Latex Math wiki: https://en.wikibooks.org/wiki/LaTeX/Mathematics\n",
        "\n",
        "\n",
        "*   OER: https://ie.pubpub.org/pub/gpd9nks0/release/2\n",
        "\n",
        "\n",
        "\n",
        "\n",
        "\n",
        "---\n",
        "\n",
        "\n",
        "\n",
        "\n",
        "\n",
        "\n",
        "\n",
        "\n",
        "\n",
        "\n",
        "\n"
      ],
      "metadata": {
        "id": "ZnzuAQJWBADa"
      }
    },
    {
      "cell_type": "markdown",
      "source": [
        "# Part I: Game Theory Concepts (6 points)"
      ],
      "metadata": {
        "id": "gu1DcOeIESvh"
      }
    },
    {
      "cell_type": "markdown",
      "source": [
        "**Note:**\n",
        "\n",
        "*if you can't find definitions in the second computer science textbook, you can also refer to the algorithmic game theory textbook for substitutions.*"
      ],
      "metadata": {
        "id": "jOSZqLH-qA5_"
      }
    },
    {
      "cell_type": "markdown",
      "source": [
        "## 1. Normal Form Game"
      ],
      "metadata": {
        "id": "NspwLDHa_eM3"
      }
    },
    {
      "cell_type": "markdown",
      "source": [
        "### 1.1. What defines a normal form game? Find answers in “A Course in Game Theory by Prof. Ariel Rubinstein and M. Osborne. ([Download](https://arielrubinstein.tau.ac.il/books.html)) "
      ],
      "metadata": {
        "id": "8XxzfHd8_o58"
      }
    },
    {
      "cell_type": "markdown",
      "source": [
        "*Type your answers here*\n",
        "\n",
        "*Plese provide in-text citations with hyperlink and mark pages numbers*"
      ],
      "metadata": {
        "id": "77RcxNkvAleZ"
      }
    },
    {
      "cell_type": "markdown",
      "source": [
        "### 1.2. What defines a normal form game? Find answers in “Multiagent Systems: Algorithmic, Game-Theoretic, and Logical Foundations” by Prof. Yoav Shoham and Kevin Leyton-Brown. ([Download](http://www.masfoundations.org/download.html))"
      ],
      "metadata": {
        "id": "uuDq5spD_3zM"
      }
    },
    {
      "cell_type": "markdown",
      "source": [
        "*Type your answers here*\n",
        "\n",
        "*Plese provide in-text citations with hyperlink and mark pages numbers*"
      ],
      "metadata": {
        "id": "KmArT2ypAw42"
      }
    },
    {
      "cell_type": "markdown",
      "source": [
        "## 2. Static Game with Complete Information and Nash Equilibrium"
      ],
      "metadata": {
        "id": "99joT2yo_ikP"
      }
    },
    {
      "cell_type": "markdown",
      "source": [
        "### 2.1. What defines Nash Equilibrium? Find answers in “A Course in Game Theory by Prof. Ariel Rubinstein and M. Osborne. ([Download](https://arielrubinstein.tau.ac.il/books.html)) "
      ],
      "metadata": {
        "id": "UmHrmxgFB_4Z"
      }
    },
    {
      "cell_type": "markdown",
      "source": [
        "*Type your answers here*\n",
        "\n",
        "*Plese provide in-text citations with hyperlink and mark pages numbers*"
      ],
      "metadata": {
        "id": "7gYDMEltGSmj"
      }
    },
    {
      "cell_type": "markdown",
      "source": [
        "### 2.2. What defines Nash Equilibrium? Find answers in “Multiagent Systems: Algorithmic, Game-Theoretic, and Logical Foundations” by Prof. Yoav Shoham and Kevin Leyton-Brown. ([Download](http://www.masfoundations.org/download.html))"
      ],
      "metadata": {
        "id": "5lSqAe33Colc"
      }
    },
    {
      "cell_type": "markdown",
      "source": [
        "*Type your answers here*\n",
        "\n",
        "*Plese provide in-text citations with hyperlink and mark pages numbers*"
      ],
      "metadata": {
        "id": "OGqsuSzxGT0K"
      }
    },
    {
      "cell_type": "markdown",
      "source": [
        "## 3.Bayesian Game and Perfect Bayesian Nash Equilibrium"
      ],
      "metadata": {
        "id": "83uCgKjjC6y7"
      }
    },
    {
      "cell_type": "markdown",
      "source": [
        "### 3.1. How to define Bayesian Game and Bayesian Nash Equilibrium? Find answers in “A Course in Game Theory by Prof. Ariel Rubinstein and M. Osborne. ([Download](https://arielrubinstein.tau.ac.il/books.html)) "
      ],
      "metadata": {
        "id": "FkTUjpOwDBB3"
      }
    },
    {
      "cell_type": "markdown",
      "source": [
        "*Type your answers here*\n",
        "\n",
        "*Plese provide in-text citations with hyperlink and mark pages numbers*"
      ],
      "metadata": {
        "id": "bygsgchEGU2e"
      }
    },
    {
      "cell_type": "markdown",
      "source": [
        "### 3.2. How to define Bayesian Game and Beyesian Nash Equilibrium? Find answers in “Multiagent Systems: Algorithmic, Game-Theoretic, and Logical Foundations” by Prof. Yoav Shoham and Kevin Leyton-Brown. ([Download](http://www.masfoundations.org/download.html))"
      ],
      "metadata": {
        "id": "DzU78ISuDHbE"
      }
    },
    {
      "cell_type": "markdown",
      "source": [
        "*Type your answers here*\n",
        "\n",
        "*Plese provide in-text citations with hyperlink and mark pages numbers*"
      ],
      "metadata": {
        "id": "XlUbTZbRGVu2"
      }
    },
    {
      "cell_type": "markdown",
      "source": [
        "## 4. Extensive Form Game"
      ],
      "metadata": {
        "id": "M_VYxieHDNoX"
      }
    },
    {
      "cell_type": "markdown",
      "source": [
        "### 4.1. How to define extensive form game? Find answers in “A Course in Game Theory by Prof. Ariel Rubinstein and M. Osborne. ([Download](https://arielrubinstein.tau.ac.il/books.html)) "
      ],
      "metadata": {
        "id": "yIf0IJ2yDSQw"
      }
    },
    {
      "cell_type": "markdown",
      "source": [
        "*Type your answers here*\n",
        "\n",
        "*Plese provide in-text citations with hyperlink and mark pages numbers*"
      ],
      "metadata": {
        "id": "aFo1j6BxGWpV"
      }
    },
    {
      "cell_type": "markdown",
      "source": [
        "### 4.2. How to define extensive form game? Find answers in “Multiagent Systems: Algorithmic, Game-Theoretic, and Logical Foundations” by Prof. Yoav Shoham and Kevin Leyton-Brown. ([Download](http://www.masfoundations.org/download.html))"
      ],
      "metadata": {
        "id": "wxAy3l2oDU65"
      }
    },
    {
      "cell_type": "markdown",
      "source": [
        "*Type your answers here*\n",
        "\n",
        "*Plese provide in-text citations with hyperlink and mark pages numbers*"
      ],
      "metadata": {
        "id": "cQ4hei63GXWE"
      }
    },
    {
      "cell_type": "markdown",
      "source": [
        "## 5. Subgame Perfect Nash Equilibrium"
      ],
      "metadata": {
        "id": "pRHu_UxyDYiE"
      }
    },
    {
      "cell_type": "markdown",
      "source": [
        "### 5.1 How to define Subgame Perfect Nash Equilibrium (SPNE)? Find answers in “A Course in Game Theory by Prof. Ariel Rubinstein and M. Osborne. ([Download](https://arielrubinstein.tau.ac.il/books.html)) "
      ],
      "metadata": {
        "id": "sI19ThW2DcVL"
      }
    },
    {
      "cell_type": "markdown",
      "source": [
        "*Type your answers here*\n",
        "\n",
        "*Plese provide in-text citations with hyperlink and mark pages numbers*"
      ],
      "metadata": {
        "id": "PT6SijSRGYky"
      }
    },
    {
      "cell_type": "markdown",
      "source": [
        "### 5.2 How to define Subgame Perfect Nash Equilibrium (SPNE)? Find answers in “Multiagent Systems: Algorithmic, Game-Theoretic, and Logical Foundations” by Prof. Yoav Shoham and Kevin Leyton-Brown. ([Download](http://www.masfoundations.org/download.html))"
      ],
      "metadata": {
        "id": "cFsHiBtiDkvr"
      }
    },
    {
      "cell_type": "markdown",
      "source": [
        "*Type your answers here*\n",
        "\n",
        "*Plese provide in-text citations with hyperlink and mark pages numbers*"
      ],
      "metadata": {
        "id": "FvrnyekaGZee"
      }
    },
    {
      "cell_type": "markdown",
      "source": [
        "## 6. Perfect Bayesian Equilibrium"
      ],
      "metadata": {
        "id": "bYEfdPtwDmxC"
      }
    },
    {
      "cell_type": "markdown",
      "source": [
        "### 6.1 How to define Perfect Bayesian Equilibrium (PBE)? Find answers in “A Course in Game Theory by Prof. Ariel Rubinstein and M. Osborne. ([Download](https://arielrubinstein.tau.ac.il/books.html)) "
      ],
      "metadata": {
        "id": "W01DTAr7Du2S"
      }
    },
    {
      "cell_type": "markdown",
      "source": [
        "*Type your answers here*\n",
        "\n",
        "*Plese provide in-text citations with hyperlink and mark pages numbers*"
      ],
      "metadata": {
        "id": "pkcmFXkuGafr"
      }
    },
    {
      "cell_type": "markdown",
      "source": [
        "### 6.2 How to define Perfect Bayesian Equilibrium (PBE)? Find answers in “Multiagent Systems: Algorithmic, Game-Theoretic, and Logical Foundations” by Prof. Yoav Shoham and Kevin Leyton-Brown. ([Download](http://www.masfoundations.org/download.html))"
      ],
      "metadata": {
        "id": "LYqHHdnzD0FH"
      }
    },
    {
      "cell_type": "markdown",
      "source": [
        "*Type your answers here*\n",
        "\n",
        "*Plese provide in-text citations with hyperlink and mark pages numbers*"
      ],
      "metadata": {
        "id": "VyiK3yGIGbY9"
      }
    },
    {
      "cell_type": "markdown",
      "source": [
        "# Part II: Computational Issues (1 points)"
      ],
      "metadata": {
        "id": "59TTvY9hL8Fp"
      }
    },
    {
      "cell_type": "markdown",
      "source": [
        "### Brieftly read Algorithmic Game Theory e-book Chapter 1 and 2. ([URL](https://drive.google.com/file/d/1qbWzkgKbej9KTRcOOK7a57LEU83lRpfY/view?usp=sharing)) Answer the following questions:\n"
      ],
      "metadata": {
        "id": "Uxx8hs5AMBSC"
      }
    },
    {
      "cell_type": "markdown",
      "source": [
        "### RQ1: What is the computational issues of the Nash Equilibrium?\n"
      ],
      "metadata": {
        "id": "T09X801NMa6Q"
      }
    },
    {
      "cell_type": "markdown",
      "source": [
        "*Type your answers here*\n",
        "\n",
        "*Plese provide in-text citations with hyperlink and mark pages numbers*"
      ],
      "metadata": {
        "id": "un_JxQwpM3AW"
      }
    },
    {
      "cell_type": "markdown",
      "source": [
        "### RQ2: What is the complexity of finding Nash Equilibrium?"
      ],
      "metadata": {
        "id": "DH-hkNvEM2F9"
      }
    },
    {
      "cell_type": "markdown",
      "source": [
        "*Type your answers here*\n",
        "\n",
        "*Plese provide in-text citations with hyperlink and mark pages numbers*"
      ],
      "metadata": {
        "id": "XTuQhZZgNaK9"
      }
    },
    {
      "cell_type": "markdown",
      "source": [
        "# Part III: Case Studies (8 points)"
      ],
      "metadata": {
        "id": "xXyERa1rEY1t"
      }
    },
    {
      "cell_type": "markdown",
      "source": [
        "## 1.NashPy"
      ],
      "metadata": {
        "id": "IuwvJrpAEcDJ"
      }
    },
    {
      "cell_type": "markdown",
      "source": [
        "## 1.1. What types of games and solution concepts can NashPy deal with?"
      ],
      "metadata": {
        "id": "AfLajQ4oJE-2"
      }
    },
    {
      "cell_type": "markdown",
      "source": [
        "*Type your answers here. Plese provide in-text citations with hyperlink to the software documentations (required citations)*"
      ],
      "metadata": {
        "id": "rsDohKC1NbSb"
      }
    },
    {
      "cell_type": "markdown",
      "source": [
        "## 1.2. Apply NashPy to solve a solution concept on a specific game (your own choices) different from the case studies in the OER"
      ],
      "metadata": {
        "id": "VcFMSS8hJY0i"
      }
    },
    {
      "cell_type": "markdown",
      "source": [
        "# 2. QuantEcon"
      ],
      "metadata": {
        "id": "ghdeU3TBEen4"
      }
    },
    {
      "cell_type": "markdown",
      "source": [
        "## 2.1. What types of games and soution concepts can QuantEcon deal with?"
      ],
      "metadata": {
        "id": "LVUTcelYJhlE"
      }
    },
    {
      "cell_type": "markdown",
      "source": [
        "*Type your answers here. Plese provide in-text citations with hyperlink to the software documentations (required citations)*"
      ],
      "metadata": {
        "id": "oPWdflnKNij1"
      }
    },
    {
      "cell_type": "markdown",
      "source": [
        "## 2.2. Apply NashPy to solve a solution concept on a specific game (your own choices) different from the case studies in the OER"
      ],
      "metadata": {
        "id": "YZtbPe0DKKOU"
      }
    },
    {
      "cell_type": "markdown",
      "source": [
        "# 3. Game Theory Explorer"
      ],
      "metadata": {
        "id": "loipec6iEg5Q"
      }
    },
    {
      "cell_type": "markdown",
      "source": [
        "## 3.1. What types of games and soution concepts can Game Theory Explorer deal with?"
      ],
      "metadata": {
        "id": "bXEf3SZLJqcr"
      }
    },
    {
      "cell_type": "markdown",
      "source": [
        "*Type your answers here. Plese provide in-text citations with hyperlink to the software documentations (required citations)*"
      ],
      "metadata": {
        "id": "J0WtIRjLNnBL"
      }
    },
    {
      "cell_type": "markdown",
      "source": [
        "## 3.2. Apply NashPy to solve a solution concept on a specific game (your own choices) different from the case studies in the OER"
      ],
      "metadata": {
        "id": "qnMNNzIFKL4k"
      }
    },
    {
      "cell_type": "markdown",
      "source": [
        "# 4. Gambit"
      ],
      "metadata": {
        "id": "b1dIMT8lEj36"
      }
    },
    {
      "cell_type": "markdown",
      "source": [
        "## 4.1. What types of games and soution concepts can Gambit deal with?"
      ],
      "metadata": {
        "id": "Gdj5a0aTJzHt"
      }
    },
    {
      "cell_type": "markdown",
      "source": [
        "*Type your answers here. Plese provide in-text citations with hyperlink to the software documentations (required citations)*"
      ],
      "metadata": {
        "id": "Aw9e0NI3NoMx"
      }
    },
    {
      "cell_type": "markdown",
      "source": [
        "## 4.2. Apply NashPy to solve a solution concept on a specific game (your own choices) different from the case studies in the OER"
      ],
      "metadata": {
        "id": "YeS85R93KOMt"
      }
    },
    {
      "cell_type": "markdown",
      "source": [
        "# 5. Mesa [optional]"
      ],
      "metadata": {
        "id": "KaKVeBJSEmii"
      }
    },
    {
      "cell_type": "markdown",
      "source": [
        "## 5.1. What types of games and soution concepts can Mesa deal with?"
      ],
      "metadata": {
        "id": "OHrhd28BKRUt"
      }
    },
    {
      "cell_type": "markdown",
      "source": [
        "*Type your answers here. Plese provide in-text citations with hyperlink to the software documentations (required citations)*"
      ],
      "metadata": {
        "id": "C0TB1YdRNpiD"
      }
    },
    {
      "cell_type": "markdown",
      "source": [
        "## 5.2. Apply Mesa to solve a solution concept on a specific game (your own choices) different from the case studies in the OER"
      ],
      "metadata": {
        "id": "EHOmn9MzKXxm"
      }
    },
    {
      "cell_type": "markdown",
      "source": [
        "# References"
      ],
      "metadata": {
        "id": "UYtNIY9LIp1C"
      }
    },
    {
      "cell_type": "markdown",
      "source": [
        "*please provide references for all citations in [Chicago Author-Date Styles](https://www.chicagomanualofstyle.org/tools_citationguide/citation-guide-2.html)*"
      ],
      "metadata": {
        "id": "dAIK0eQiIxnh"
      }
    }
  ]
}